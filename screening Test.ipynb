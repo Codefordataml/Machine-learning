{
 "cells": [
  {
   "cell_type": "code",
   "execution_count": 2,
   "metadata": {},
   "outputs": [],
   "source": [
    "import pandas as pd\n",
    "import numpy as np\n",
    "import matplotlib.pyplot as plt\n",
    "import seaborn as sns"
   ]
  },
  {
   "cell_type": "code",
   "execution_count": 17,
   "metadata": {},
   "outputs": [],
   "source": [
    "df = pd.read_excel('Screening test(1).xlsx')\n"
   ]
  },
  {
   "cell_type": "code",
   "execution_count": 18,
   "metadata": {},
   "outputs": [
    {
     "data": {
      "text/html": [
       "<div>\n",
       "<style scoped>\n",
       "    .dataframe tbody tr th:only-of-type {\n",
       "        vertical-align: middle;\n",
       "    }\n",
       "\n",
       "    .dataframe tbody tr th {\n",
       "        vertical-align: top;\n",
       "    }\n",
       "\n",
       "    .dataframe thead th {\n",
       "        text-align: right;\n",
       "    }\n",
       "</style>\n",
       "<table border=\"1\" class=\"dataframe\">\n",
       "  <thead>\n",
       "    <tr style=\"text-align: right;\">\n",
       "      <th></th>\n",
       "      <th>amount</th>\n",
       "      <th>currency</th>\n",
       "      <th>status</th>\n",
       "      <th>captured</th>\n",
       "      <th>plan name</th>\n",
       "      <th>created_at</th>\n",
       "      <th>id</th>\n",
       "      <th>duration</th>\n",
       "    </tr>\n",
       "  </thead>\n",
       "  <tbody>\n",
       "    <tr>\n",
       "      <th>0</th>\n",
       "      <td>600</td>\n",
       "      <td>INR</td>\n",
       "      <td>captured</td>\n",
       "      <td>1</td>\n",
       "      <td>Plan C</td>\n",
       "      <td>2018-04-01</td>\n",
       "      <td>plan_id:\"13\"</td>\n",
       "      <td>plan_duration:\"370\"</td>\n",
       "    </tr>\n",
       "    <tr>\n",
       "      <th>1</th>\n",
       "      <td>400</td>\n",
       "      <td>INR</td>\n",
       "      <td>captured</td>\n",
       "      <td>1</td>\n",
       "      <td>Plan B</td>\n",
       "      <td>2018-04-01</td>\n",
       "      <td>plan_id:\"12\"</td>\n",
       "      <td>plan_duration:\"370\"</td>\n",
       "    </tr>\n",
       "    <tr>\n",
       "      <th>2</th>\n",
       "      <td>400</td>\n",
       "      <td>INR</td>\n",
       "      <td>captured</td>\n",
       "      <td>1</td>\n",
       "      <td>Plan B</td>\n",
       "      <td>2018-04-01</td>\n",
       "      <td>plan_id:\"12\"</td>\n",
       "      <td>plan_duration:\"370\"</td>\n",
       "    </tr>\n",
       "    <tr>\n",
       "      <th>3</th>\n",
       "      <td>600</td>\n",
       "      <td>INR</td>\n",
       "      <td>captured</td>\n",
       "      <td>1</td>\n",
       "      <td>Plan C</td>\n",
       "      <td>2018-04-01</td>\n",
       "      <td>plan_id:\"13\"</td>\n",
       "      <td>plan_duration:\"370\"</td>\n",
       "    </tr>\n",
       "    <tr>\n",
       "      <th>4</th>\n",
       "      <td>400</td>\n",
       "      <td>INR</td>\n",
       "      <td>captured</td>\n",
       "      <td>1</td>\n",
       "      <td>Plan B</td>\n",
       "      <td>2018-04-01</td>\n",
       "      <td>plan_id:\"12\"</td>\n",
       "      <td>plan_duration:\"370\"</td>\n",
       "    </tr>\n",
       "  </tbody>\n",
       "</table>\n",
       "</div>"
      ],
      "text/plain": [
       "   amount currency    status  captured plan name created_at            id  \\\n",
       "0     600      INR  captured         1    Plan C 2018-04-01  plan_id:\"13\"   \n",
       "1     400      INR  captured         1    Plan B 2018-04-01  plan_id:\"12\"   \n",
       "2     400      INR  captured         1    Plan B 2018-04-01  plan_id:\"12\"   \n",
       "3     600      INR  captured         1    Plan C 2018-04-01  plan_id:\"13\"   \n",
       "4     400      INR  captured         1    Plan B 2018-04-01  plan_id:\"12\"   \n",
       "\n",
       "              duration  \n",
       "0  plan_duration:\"370\"  \n",
       "1  plan_duration:\"370\"  \n",
       "2  plan_duration:\"370\"  \n",
       "3  plan_duration:\"370\"  \n",
       "4  plan_duration:\"370\"  "
      ]
     },
     "execution_count": 18,
     "metadata": {},
     "output_type": "execute_result"
    }
   ],
   "source": [
    "df.head()"
   ]
  },
  {
   "cell_type": "code",
   "execution_count": 21,
   "metadata": {},
   "outputs": [
    {
     "data": {
      "text/plain": [
       "Index(['amount', 'currency', 'status', 'captured', 'plan name', 'created_at',\n",
       "       'id', 'duration'],\n",
       "      dtype='object')"
      ]
     },
     "execution_count": 21,
     "metadata": {},
     "output_type": "execute_result"
    }
   ],
   "source": [
    "df.columns"
   ]
  },
  {
   "cell_type": "code",
   "execution_count": 112,
   "metadata": {},
   "outputs": [
    {
     "name": "stdout",
     "output_type": "stream",
     "text": [
      "<class 'pandas.core.frame.DataFrame'>\n",
      "RangeIndex: 449 entries, 0 to 448\n",
      "Data columns (total 8 columns):\n",
      "amount        449 non-null int64\n",
      "currency      449 non-null object\n",
      "status        449 non-null object\n",
      "captured      449 non-null int64\n",
      "plan name     449 non-null object\n",
      "created_at    449 non-null datetime64[ns]\n",
      "id            449 non-null object\n",
      "duration      449 non-null object\n",
      "dtypes: datetime64[ns](1), int64(2), object(5)\n",
      "memory usage: 28.1+ KB\n"
     ]
    }
   ],
   "source": [
    "df.info()"
   ]
  },
  {
   "cell_type": "markdown",
   "metadata": {},
   "source": [
    "# Q1. What is the total amount of Plan A, Plan B and Plan C sales individually?\n"
   ]
  },
  {
   "cell_type": "code",
   "execution_count": 19,
   "metadata": {},
   "outputs": [
    {
     "data": {
      "text/plain": [
       "Plan B    243\n",
       "Plan C    180\n",
       "Plan A     26\n",
       "Name: plan name, dtype: int64"
      ]
     },
     "execution_count": 19,
     "metadata": {},
     "output_type": "execute_result"
    },
    {
     "data": {
      "image/png": "[encoded data removed]",
      "text/plain": [
       "<Figure size 432x288 with 1 Axes>"
      ]
     },
     "metadata": {
      "needs_background": "light"
     },
     "output_type": "display_data"
    }
   ],
   "source": [
    "sns.countplot(df['plan name'],data=df)\n",
    "df['plan name'].value_counts()"
   ]
  },
  {
   "cell_type": "code",
   "execution_count": 108,
   "metadata": {},
   "outputs": [],
   "source": [
    "total_amount = df.groupby('plan name')"
   ]
  },
  {
   "cell_type": "code",
   "execution_count": 120,
   "metadata": {},
   "outputs": [
    {
     "name": "stdout",
     "output_type": "stream",
     "text": [
      "plan name\n",
      "Plan A      5200\n",
      "Plan B     97200\n",
      "Plan C    108000\n",
      "Name: amount, dtype: int64\n"
     ]
    },
    {
     "data": {
      "text/plain": [
       "<matplotlib.axes._subplots.AxesSubplot at 0x258914ce668>"
      ]
     },
     "execution_count": 120,
     "metadata": {},
     "output_type": "execute_result"
    },
    {
     "data": {
      "image/png": "[encoded data removed]",
      "text/plain": [
       "<Figure size 432x288 with 1 Axes>"
      ]
     },
     "metadata": {
      "needs_background": "light"
     },
     "output_type": "display_data"
    }
   ],
   "source": [
    "print(total_amount.amount.sum())\n",
    "total_amount.amount.sum().plot(kind='bar')"
   ]
  },
  {
   "cell_type": "markdown",
   "metadata": {},
   "source": [
    "# Q2. On each date, total of how many plans were sold?\n"
   ]
  },
  {
   "cell_type": "code",
   "execution_count": 124,
   "metadata": {},
   "outputs": [
    {
     "data": {
      "text/plain": [
       "created_at  plan name\n",
       "2018-04-01  Plan B       17\n",
       "            Plan C       11\n",
       "2018-04-02  Plan B       10\n",
       "            Plan C        4\n",
       "            Plan A        2\n",
       "2018-04-03  Plan C        6\n",
       "            Plan B        5\n",
       "2018-04-04  Plan B       85\n",
       "            Plan C       58\n",
       "            Plan A       10\n",
       "2018-04-05  Plan C        5\n",
       "            Plan B        4\n",
       "2018-04-06  Plan B       18\n",
       "            Plan C       16\n",
       "            Plan A        1\n",
       "2018-04-07  Plan C       16\n",
       "            Plan B       13\n",
       "            Plan A        1\n",
       "2018-04-08  Plan B       14\n",
       "            Plan C       14\n",
       "            Plan A        1\n",
       "2018-04-09  Plan C       10\n",
       "            Plan B        6\n",
       "            Plan A        2\n",
       "2018-04-10  Plan B       13\n",
       "            Plan C        7\n",
       "            Plan A        1\n",
       "2018-04-11  Plan B       40\n",
       "            Plan C       21\n",
       "            Plan A        6\n",
       "2018-04-12  Plan B        7\n",
       "            Plan C        4\n",
       "            Plan A        1\n",
       "2018-04-13  Plan B        5\n",
       "            Plan A        1\n",
       "            Plan C        1\n",
       "2018-04-14  Plan C        7\n",
       "            Plan B        6\n",
       "Name: plan name, dtype: int64"
      ]
     },
     "execution_count": 124,
     "metadata": {},
     "output_type": "execute_result"
    }
   ],
   "source": [
    "date = df.groupby('created_at')\n",
    "date['plan name'].value_counts()"
   ]
  },
  {
   "cell_type": "markdown",
   "metadata": {},
   "source": [
    "# Q3. How many Plan A, Plan B and Plan C are sold on 4th April 2018?\n"
   ]
  },
  {
   "cell_type": "code",
   "execution_count": 127,
   "metadata": {},
   "outputs": [
    {
     "name": "stdout",
     "output_type": "stream",
     "text": [
      "Plan B    85\n",
      "Plan C    58\n",
      "Plan A    10\n",
      "Name: plan name, dtype: int64\n"
     ]
    },
    {
     "data": {
      "image/png": "[encoded data removed]",
      "text/plain": [
       "<Figure size 432x288 with 1 Axes>"
      ]
     },
     "metadata": {
      "needs_background": "light"
     },
     "output_type": "display_data"
    }
   ],
   "source": [
    "df[(df['created_at']=='2018-04-04')& (df['plan name'])]['plan name'].value_counts().plot(kind='bar')\n",
    "print(df[(df['created_at']=='2018-04-04')& (df['plan name'])]['plan name'].value_counts())"
   ]
  },
  {
   "cell_type": "code",
   "execution_count": null,
   "metadata": {},
   "outputs": [],
   "source": []
  },
  {
   "cell_type": "markdown",
   "metadata": {},
   "source": [
    "# Q4. Which plan and plan duration has recorded the highest number of sales?"
   ]
  },
  {
   "cell_type": "code",
   "execution_count": 113,
   "metadata": {},
   "outputs": [
    {
     "data": {
      "text/plain": [
       "'plan_duration:\"550\"'"
      ]
     },
     "execution_count": 113,
     "metadata": {},
     "output_type": "execute_result"
    }
   ],
   "source": [
    "df['duration'].max()"
   ]
  },
  {
   "cell_type": "code",
   "execution_count": 72,
   "metadata": {},
   "outputs": [
    {
     "data": {
      "text/plain": [
       "Plan C    12\n",
       "Plan A     4\n",
       "Plan B     1\n",
       "Name: plan name, dtype: int64"
      ]
     },
     "execution_count": 72,
     "metadata": {},
     "output_type": "execute_result"
    }
   ],
   "source": [
    "df[df['duration']=='plan_duration:\"550\"']['plan name'].value_counts()"
   ]
  },
  {
   "cell_type": "code",
   "execution_count": 114,
   "metadata": {},
   "outputs": [
    {
     "data": {
      "text/plain": [
       "'Plan C'"
      ]
     },
     "execution_count": 114,
     "metadata": {},
     "output_type": "execute_result"
    }
   ],
   "source": [
    "df['plan name'].max()"
   ]
  },
  {
   "cell_type": "code",
   "execution_count": 115,
   "metadata": {},
   "outputs": [
    {
     "data": {
      "text/plain": [
       "'plan_duration:\"550\"'"
      ]
     },
     "execution_count": 115,
     "metadata": {},
     "output_type": "execute_result"
    }
   ],
   "source": [
    "df['duration'].max()"
   ]
  },
  {
   "cell_type": "code",
   "execution_count": null,
   "metadata": {},
   "outputs": [],
   "source": []
  }
 ],
 "metadata": {
  "kernelspec": {
   "display_name": "Python 3",
   "language": "python",
   "name": "python3"
  },
  "language_info": {
   "codemirror_mode": {
    "name": "ipython",
    "version": 3
   },
   "file_extension": ".py",
   "mimetype": "text/x-python",
   "name": "python",
   "nbconvert_exporter": "python",
   "pygments_lexer": "ipython3",
   "version": "3.7.0"
  }
 },
 "nbformat": 4,
 "nbformat_minor": 2
}
